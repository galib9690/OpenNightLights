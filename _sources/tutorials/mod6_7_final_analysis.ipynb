{
 "cells": [
  {
   "cell_type": "markdown",
   "metadata": {},
   "source": [
    "# Statistical inference\n",
    "\n",
    "We will use the data and model approach we have finalized to infer built-up land cover on the enter time period of 2016 through 2019.\n",
    "\n",
    "## Fit model\n",
    "\n",
    "This just executes the code to integrate our data and train our model (with the \"optimal\" final hyperparameters) as we developed previously:"
   ]
  },
  {
   "cell_type": "code",
   "execution_count": 1,
   "metadata": {},
   "outputs": [],
   "source": [
    "import geemap, ee\n",
    "import numpy as np\n",
    "import pandas as pd\n",
    "import seaborn as sns\n",
    "import matplotlib.pyplot as plt\n",
    "from scipy.stats import ttest_ind\n",
    "\n",
    "try:\n",
    "        ee.Initialize()\n",
    "except Exception as e:\n",
    "        ee.Authenticate()\n",
    "        ee.Initialize()\n",
    "\n",
    "# define some functions and variables\n",
    "def se2mask(image):\n",
    "    quality_band = image.select('QA60')\n",
    "    cloudmask = 1 << 10\n",
    "    cirrusmask = 1 << 11\n",
    "    mask = quality_band.bitwiseAnd(cloudmask).eq(0) and (quality_band.bitwiseAnd(cirrusmask).eq(0))\n",
    "    return image.updateMask(mask).divide(10000)\n",
    "\n",
    "\n",
    "se2bands = ['B2', 'B3', 'B4', 'B5', 'B6', 'B7','B8','B8A']\n",
    "trainingbands = se2bands + ['avg_rad']\n",
    "label = 'smod_code'\n",
    "scaleFactor=1000\n",
    "\n",
    "# create training data\n",
    "roi = ee.FeatureCollection(\"FAO/GAUL/2015/level2\").filter(ee.Filter.eq('ADM2_NAME','Bagmati')).geometry()\n",
    "\n",
    "se2 = ee.ImageCollection('COPERNICUS/S2').filterDate(\n",
    "    \"2015-07-01\",\"2015-12-31\").filterBounds(roi).filter(\n",
    "    ee.Filter.lt(\"CLOUDY_PIXEL_PERCENTAGE\",20)).map(se2mask).median().select(se2bands).clip(roi)\n",
    "\n",
    "viirs = ee.ImageCollection(\"NOAA/VIIRS/DNB/MONTHLY_V1/VCMSLCFG\").filterDate(\n",
    "    \"2015-07-01\",\"2019-12-31\").filterBounds(roi).median().select('avg_rad').clip(roi)\n",
    "\n",
    "fused = se2.addBands(viirs)\n",
    "\n",
    "# create and overlay labels to training data\n",
    "ghsl = ee.ImageCollection('JRC/GHSL/P2016/SMOD_POP_GLOBE_V1').filter(ee.Filter.date(\n",
    "    '2015-01-01', '2015-12-31')).select(label).median().gte(2)\n",
    "\n",
    "points = ghsl.sample(**{\"region\":roi, \"scale\":scaleFactor,\"seed\":0,'geometries':True})\n",
    "\n",
    "data = fused.select(trainingbands).sampleRegions(collection=points,\n",
    "                                                        properties=[label],\n",
    "                                                        scale=scaleFactor)\n",
    "\n",
    "# fit classifier on entire dataset\n",
    "new_params = {\"numberOfTrees\":500, \n",
    "              \"variablesPerSplit\":None,  \n",
    "              \"minLeafPopulation\":1, \n",
    "              \"bagFraction\":0.5, \n",
    "              \"maxNodes\":None, \n",
    "               \"seed\":0}\n",
    "clf = ee.Classifier.smileRandomForest(**new_params).train(data, label, trainingbands)"
   ]
  },
  {
   "cell_type": "markdown",
   "metadata": {},
   "source": [
    "## Prep new data\n",
    "\n",
    "In order to predict the data we need to prep (including fuse) the unseen data just as we did with the training data, but we'll do this for each year.\n",
    "\n",
    "For the scope of this excercise, we're doing this at an annual level, but you could do this to produce a monthly time series. Try it yourself!"
   ]
  },
  {
   "cell_type": "code",
   "execution_count": 2,
   "metadata": {},
   "outputs": [],
   "source": [
    "def img_prep(se2collection,\n",
    "            viirscollection,\n",
    "            year,\n",
    "            se2bands,\n",
    "            roi,\n",
    "            se2maskfunc,\n",
    "            scaleFactor):\n",
    "    se2 = se2collection.filterDate(f\"{year}-01-01\",f\"{year}-12-31\").filterBounds(roi).filter(\n",
    "        ee.Filter.lt(\"CLOUDY_PIXEL_PERCENTAGE\",20)).map(se2maskfunc).median().select(se2bands).clip(roi)\n",
    "    \n",
    "    viirs = viirscollection.filterDate(\n",
    "        f\"{year}-01-01\",f\"{year}-12-31\").filterBounds(roi).median().select('avg_rad').clip(roi)\n",
    "    return se2.addBands(viirs)"
   ]
  },
  {
   "cell_type": "markdown",
   "metadata": {},
   "source": [
    "## Run inference on all years (2016-2019)"
   ]
  },
  {
   "cell_type": "code",
   "execution_count": 3,
   "metadata": {},
   "outputs": [],
   "source": [
    "allyears = []\n",
    "\n",
    "for year in ['2016','2017','2018','2019']:\n",
    "    img = img_prep(se2collection=ee.ImageCollection('COPERNICUS/S2'),\n",
    "                    viirscollection=ee.ImageCollection(\"NOAA/VIIRS/DNB/MONTHLY_V1/VCMSLCFG\"),\n",
    "                    year=year,\n",
    "                    se2bands=se2bands,\n",
    "                    roi=roi,\n",
    "                    se2maskfunc=se2mask,\n",
    "                    scaleFactor=scaleFactor)\n",
    "    allyears.append(img.classify(clf))"
   ]
  },
  {
   "cell_type": "markdown",
   "metadata": {},
   "source": [
    "## Plotting trends\n",
    "\n",
    "We can plot histograms {doc}`mod4_2_histograms` or time series {doc}`mod4_1_time_series_charts` as you've learned.\n",
    "\n",
    "But since our values are binary and we are comparing just a few years, a simple bar graph will do. \n",
    "\n",
    "If you produce a monthly time series, you might try some other plots.\n",
    "\n",
    "As with our data structure transformations in those earlier modules mentioned (refer to them for a refresher), extracting our data into a numerical array that we can plot takes a couple steps. We'll do this for each year we have predicted data."
   ]
  },
  {
   "cell_type": "code",
   "execution_count": 4,
   "metadata": {},
   "outputs": [],
   "source": [
    "allyears_arrs = [img.sample(region=roi, scale=scaleFactor, numPixels=1000) for img in allyears]\n",
    "allyears_arrs = [np.asarray(arr.reduceColumns(ee.Reducer.toList(1), \n",
    "                                              ['classification']).values().get(0).getInfo()) for arr in allyears_arrs]"
   ]
  },
  {
   "cell_type": "markdown",
   "metadata": {},
   "source": [
    "Now we'll transform this to a Pandas dataframe for convenience and visualization.\n",
    "\n",
    "Note that our dataframe across all years will have some missing values for a few years (apparently some pixels were masked for data quality or had other issues). \n",
    "\n",
    "We'll drop those missing values and standardize our data so instead of a direct count of built-up pixels, we'll look at the ratio of built-up for the particular year-sample."
   ]
  },
  {
   "cell_type": "code",
   "execution_count": 5,
   "metadata": {},
   "outputs": [],
   "source": [
    "df = pd.DataFrame([arr.flatten() for arr in allyears_arrs], index=['2016','2017','2018','2019']).T\n",
    "df = df/df.sum(axis=0)\n",
    "df = df.melt()\n",
    "df = df.dropna()\n",
    "df.columns =['year','built-up ratio']"
   ]
  },
  {
   "cell_type": "code",
   "execution_count": 6,
   "metadata": {},
   "outputs": [
    {
     "data": {
      "text/html": [
       "<div>\n",
       "<style scoped>\n",
       "    .dataframe tbody tr th:only-of-type {\n",
       "        vertical-align: middle;\n",
       "    }\n",
       "\n",
       "    .dataframe tbody tr th {\n",
       "        vertical-align: top;\n",
       "    }\n",
       "\n",
       "    .dataframe thead th {\n",
       "        text-align: right;\n",
       "    }\n",
       "</style>\n",
       "<table border=\"1\" class=\"dataframe\">\n",
       "  <thead>\n",
       "    <tr style=\"text-align: right;\">\n",
       "      <th></th>\n",
       "      <th>built-up ratio</th>\n",
       "    </tr>\n",
       "    <tr>\n",
       "      <th>year</th>\n",
       "      <th></th>\n",
       "    </tr>\n",
       "  </thead>\n",
       "  <tbody>\n",
       "    <tr>\n",
       "      <th>2016</th>\n",
       "      <td>709</td>\n",
       "    </tr>\n",
       "    <tr>\n",
       "      <th>2017</th>\n",
       "      <td>986</td>\n",
       "    </tr>\n",
       "    <tr>\n",
       "      <th>2018</th>\n",
       "      <td>870</td>\n",
       "    </tr>\n",
       "    <tr>\n",
       "      <th>2019</th>\n",
       "      <td>798</td>\n",
       "    </tr>\n",
       "  </tbody>\n",
       "</table>\n",
       "</div>"
      ],
      "text/plain": [
       "      built-up ratio\n",
       "year                \n",
       "2016             709\n",
       "2017             986\n",
       "2018             870\n",
       "2019             798"
      ]
     },
     "execution_count": 6,
     "metadata": {},
     "output_type": "execute_result"
    }
   ],
   "source": [
    "df.groupby('year').count()"
   ]
  },
  {
   "cell_type": "code",
   "execution_count": 7,
   "metadata": {},
   "outputs": [
    {
     "data": {
      "image/png": "[encoded data removed]",
      "text/plain": [
       "<Figure size 720x504 with 1 Axes>"
      ]
     },
     "metadata": {
      "needs_background": "light"
     },
     "output_type": "display_data"
    }
   ],
   "source": [
    "fig, ax = plt.subplots(1, figsize=(10,7))\n",
    "sns.set_theme(style=\"whitegrid\")\n",
    "ax = sns.barplot(x='year',y='built-up ratio',data=df)\n",
    "plt.title('Ratio of built-up pixels (per total) by year');"
   ]
  },
  {
   "cell_type": "markdown",
   "metadata": {},
   "source": [
    "We see two important things here:\n",
    "- 2019 has a lower ratio of built-up land than 2016\n",
    "- but 2016 seems like an outlier among a trend that is steadily growing from 2017 to 2019\n",
    "\n",
    "Remember in our exploratory analsis when we saw bright lights East of Kathmandu? Perhaps those are an outlier in our dataset? \n",
    "\n",
    "It might be worth revisiting a cleaning process to improve the nighttime lights signal. \n",
    "\n",
    "Or maybe omit nighttime lights and see if that changes things in terms of classifier performance. \n",
    "\n",
    "Or try running inference on a monthly (rather than annual) time series to get more temporal information.\n",
    "\n",
    "Or compare this to other additional provinces in Nepal (i.e. more data).\n",
    "\n",
    "Our classifier performance had much to be improved, so extra steps may be needed to validate that before we draw any strong conclusions here.\n",
    "\n",
    "But aside from that, is there anything we can tell right now? We might consider 2016 an outlier worth looking into, but could communicate that there does seem to be a steady growth trend from 2016 to 2019. \n",
    "\n",
    "We do see very large error bars in 2016 relative to the other data that justify it being an outlier. These are directly related to the sample size and as noted earlier, it is possible that data quality issues (including cloud masking?) reduced the number of observations for a given year.\n",
    "\n",
    "## Hypothesis test\n",
    "\n",
    "Lets conduct a t-test of means comparing 2016 and 2019 to find if this is a statistically significant difference.\n",
    "\n",
    "We might also look at the comparison of 2017 and 2019 to capture change in that 3 year period.\n",
    "\n",
    "#### Change from 2016 to 2019"
   ]
  },
  {
   "cell_type": "code",
   "execution_count": 9,
   "metadata": {},
   "outputs": [
    {
     "data": {
      "text/plain": [
       "Ttest_indResult(statistic=0.7375073767954438, pvalue=0.4609288241930577)"
      ]
     },
     "execution_count": 9,
     "metadata": {},
     "output_type": "execute_result"
    }
   ],
   "source": [
    "yrA = '2016'\n",
    "yrB = '2019'\n",
    "col = 'built-up ratio'\n",
    "ttest_ind(df.loc[df['year']==yrA,col], df.loc[df['year']==yrB,col])"
   ]
  },
  {
   "cell_type": "markdown",
   "metadata": {},
   "source": [
    "We do not see a significant difference (p is well over our preset alpha=0.05). So, even though it appears there is a reduction in growth, there's too much noise to say this is significant. \n",
    "\n",
    "**HINT:** you can usually tell when a means t-test will fail to reject the null hypothesis when the error bars of the samples being compared overlap as they do for 2016 and 2019.\n",
    "\n",
    "This might actually give us some relief that we are not actually saying economic growth was reduced...but the noise data indicates we should do some work to clean this as well as improve our classifier.\n",
    "\n",
    "Ok, but how about 2017 and 2019?"
   ]
  },
  {
   "cell_type": "code",
   "execution_count": 10,
   "metadata": {},
   "outputs": [
    {
     "data": {
      "text/plain": [
       "Ttest_indResult(statistic=-1.8062120183704231, pvalue=0.07105388306025602)"
      ]
     },
     "execution_count": 10,
     "metadata": {},
     "output_type": "execute_result"
    }
   ],
   "source": [
    "yrA = '2017'\n",
    "yrB = '2019'\n",
    "col = 'built-up ratio'\n",
    "ttest_ind(df.loc[df['year']==yrA,col], df.loc[df['year']==yrB,col])"
   ]
  },
  {
   "cell_type": "markdown",
   "metadata": {},
   "source": [
    "Here again we fail to reject the null hypothesis (p > 0.05), although the comparison is cleaner (lower p).\n",
    "\n",
    "Let's take a look at 2016 versus 2019 spatially by differencing our images."
   ]
  },
  {
   "cell_type": "code",
   "execution_count": 11,
   "metadata": {},
   "outputs": [
    {
     "data": {
      "application/vnd.jupyter.widget-view+json": {
       "model_id": "95fb887718d84cbcb0979cf2ccfcde0c",
       "version_major": 2,
       "version_minor": 0
      },
      "text/plain": [
       "Map(center=[27.87388743003947, 85.41973735675019], controls=(WidgetControl(options=['position'], widget=HBox(c…"
      ]
     },
     "metadata": {},
     "output_type": "display_data"
    }
   ],
   "source": [
    "# initialize our map\n",
    "map1 = geemap.Map()\n",
    "map1.centerObject(roi, 9)\n",
    "map1.addLayer(allyears[-1].subtract(allyears[0]), {\"min\":-1.0, \"max\":1.0}, 'diff')\n",
    "map1.addLayerControl()\n",
    "map1"
   ]
  },
  {
   "cell_type": "markdown",
   "metadata": {},
   "source": [
    "We see that our image is truncated (along the top) which is likely due to the re-sampling constraints (or perhaps some error in processing). This shoudlnt affect our statistical sample if it is consistent across years (it seems to be), but is an indicaton of other potential data quality issues. Even with this small region we have a lot of data to process...it is probably to much to do efficiently via Google Earth Engine. \n",
    "\n",
    "All that said, we do see some informative results. Maybe our means test or year-by-year summary statistics did not reveal much, but spatially we do see patterns that are unmistakeably structural related to high growth (white) along road networks. Kathmandu is noticeably \"neutral\" (the gray \"circle\" in the lower center of the province. Given that it is probably nearly all built up by 2016, it stands to reason there would not be much change in 3 years and it is quite stable.\n",
    "\n",
    "Maybe a cluster analysis of change could identify groups of similar growth patterns spatiotemporally and give us more insight into where things are growing or declining a lot or are mostly stable.\n",
    "\n",
    "\n",
    "## Concluding thoughts\n",
    "\n",
    "We did not reject the null hypothesis and on the basis of this analysis cannot confidently say we see economic growth or decline in the Province of Bagmati from 2016 to 2019. But that certainly doesnt mean there isnt or that we dont have insights here. We see in the bar graph an upward trend from 2017 to 2019. What happens in 2020 (and will COVID-19 impacts be visible?).\n",
    "\n",
    "Perhaps some improved data engineering can clean our signal and better identify a trend. Or with a different methodology and data we can look at a longer time series (VIIRS-DNB goes back to 2012, so maybe we can use Landsat images or other Sentinel products that have longer histories.) \n",
    "\n",
    "Meanwhile We do see meaninful patterns of growth spatially, particularly along major road infrastructure...perhaps a connection for you to discover: is there a relationship between road investment and economic growth and can remote sensing help to answer this?\n",
    "\n",
    "There is much to go from here and hopefullly you have a better sense of the tools to take it to the next level."
   ]
  },
  {
   "cell_type": "code",
   "execution_count": null,
   "metadata": {},
   "outputs": [],
   "source": []
  }
 ],
 "metadata": {
  "hide_input": false,
  "kernelspec": {
   "display_name": "Python 3",
   "language": "python",
   "name": "python3"
  },
  "language_info": {
   "codemirror_mode": {
    "name": "ipython",
    "version": 3
   },
   "file_extension": ".py",
   "mimetype": "text/x-python",
   "name": "python",
   "nbconvert_exporter": "python",
   "pygments_lexer": "ipython3",
   "version": "3.8.6"
  },
  "toc": {
   "base_numbering": 1,
   "nav_menu": {},
   "number_sections": false,
   "sideBar": true,
   "skip_h1_title": false,
   "title_cell": "Table of Contents",
   "title_sidebar": "Contents",
   "toc_cell": false,
   "toc_position": {},
   "toc_section_display": true,
   "toc_window_display": false
  }
 },
 "nbformat": 4,
 "nbformat_minor": 4
}
