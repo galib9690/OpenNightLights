{
 "cells": [
  {
   "cell_type": "markdown",
   "metadata": {},
   "source": [
    "[![Open In Colab](https://colab.research.google.com/assets/colab-badge.svg)](https://colab.research.google.com/github/worldbank/OpenNightLights/blob/master/onl/tutorials/mod6_6_RF_classifier.ipynb)\n",
    "\n",
    "# Random Forest Classifier\n",
    "\n",
    "Now that we have processed and explored our data, we will try to classify built-up areas with a Random Forest ensemble of decision trees.\n",
    "\n",
    "Decision tree models like <a href=\"https://en.wikipedia.org/wiki/Random_forest\">Random Forest</a> are among the most powerful, easy to use, and simple to understand models in the machine learning portfolio. The resources noted in {doc}`mod6_2_supervised_learning_img_classification` are a good place to start.\n",
    "\n",
    "More in-depth context on methods like Random Forest are out of scope for this tutorial, but worth understanding well if you use them for your analysis, even exploration.\n",
    "\n",
    "## Training data\n",
    "\n",
    "Let's recreate the training data \"image\" for 2015 that fuses Sentinel-2, VIIRS-DNB and GHSL for the Bagmati province."
   ]
  },
  {
   "cell_type": "code",
   "execution_count": 1,
   "metadata": {},
   "outputs": [],
   "source": [
    "import numpy as np\n",
    "import pandas as pd\n",
    "\n",
    "# reminder that if you are installing libraries in a Google Colab instance you will be prompted to restart your kernal\n",
    "\n",
    "try:\n",
    "    import geemap, ee\n",
    "    import seaborn as sns\n",
    "    import matplotlib.pyplot as plt\n",
    "except ModuleNotFoundError:\n",
    "    if 'google.colab' in str(get_ipython()):\n",
    "        print(\"package not found, installing w/ pip in Google Colab...\")\n",
    "        !pip install geemap seaborn matplotlib\n",
    "    else:\n",
    "        print(\"package not found, installing w/ conda...\")\n",
    "        !conda install mamba -c conda-forge -y\n",
    "        !mamba install geemap -c conda-forge -y\n",
    "        !conda install seaborn matplotlib -y\n",
    "    import geemap, ee\n",
    "    import seaborn as sns\n",
    "    import matplotlib.pyplot as plt"
   ]
  },
  {
   "cell_type": "code",
   "execution_count": 2,
   "metadata": {},
   "outputs": [],
   "source": [
    "try:\n",
    "        ee.Initialize()\n",
    "except Exception as e:\n",
    "        ee.Authenticate()\n",
    "        ee.Initialize()\n",
    "\n",
    "# define some functions and variables\n",
    "def se2mask(image):\n",
    "    quality_band = image.select('QA60')\n",
    "    cloudmask = 1 << 10\n",
    "    cirrusmask = 1 << 11\n",
    "    mask = quality_band.bitwiseAnd(cloudmask).eq(0) and (quality_band.bitwiseAnd(cirrusmask).eq(0))\n",
    "    return image.updateMask(mask).divide(10000)\n",
    "\n",
    "\n",
    "se2bands = ['B2', 'B3', 'B4', 'B5', 'B6', 'B7','B8','B8A']\n",
    "trainingbands = se2bands + ['avg_rad']\n",
    "label = 'smod_code'\n",
    "scaleFactor=1000\n",
    "\n",
    "# create training data\n",
    "roi = ee.FeatureCollection(\"FAO/GAUL/2015/level2\").filter(ee.Filter.eq('ADM2_NAME','Bagmati')).geometry()\n",
    "\n",
    "se2 = ee.ImageCollection('COPERNICUS/S2').filterDate(\n",
    "    \"2015-07-01\",\"2015-12-31\").filterBounds(roi).filter(\n",
    "    ee.Filter.lt(\"CLOUDY_PIXEL_PERCENTAGE\",20)).map(se2mask).median().select(se2bands).clip(roi)\n",
    "\n",
    "viirs = ee.Image(ee.ImageCollection(\"NOAA/VIIRS/DNB/MONTHLY_V1/VCMSLCFG\").filterDate(\n",
    "    \"2015-07-01\",\"2019-12-31\").filterBounds(roi).median().select('avg_rad').clip(roi))\n",
    "\n",
    "fused = se2.addBands(viirs)\n",
    "\n",
    "# create and overlay labels to training data\n",
    "ghsl = ee.ImageCollection('JRC/GHSL/P2016/SMOD_POP_GLOBE_V1').filter(ee.Filter.date(\n",
    "    '2015-01-01', '2015-12-31')).select(label).median().gte(2).clip(roi)\n",
    "\n",
    "points = ghsl.sample(**{\"region\":roi, \"scale\":scaleFactor,\"seed\":0,'geometries':True})\n",
    "\n",
    "data = fused.select(trainingbands).sampleRegions(collection=points,\n",
    "                                                        properties=[label],\n",
    "                                                        scale=scaleFactor)"
   ]
  },
  {
   "cell_type": "markdown",
   "metadata": {},
   "source": [
    "As a gut-check let's look at the stats:"
   ]
  },
  {
   "cell_type": "code",
   "execution_count": 3,
   "metadata": {},
   "outputs": [
    {
     "data": {
      "text/plain": [
       "{'max': 1,\n",
       " 'mean': 0.18796029458853666,\n",
       " 'min': 0,\n",
       " 'sample_sd': 0.39071173874702697,\n",
       " 'sample_var': 0.15265566279472506,\n",
       " 'sum': 1174,\n",
       " 'sum_sq': 1174,\n",
       " 'total_count': 6246,\n",
       " 'total_sd': 0.39068046053869543,\n",
       " 'total_var': 0.15263122224672718,\n",
       " 'valid_count': 6246,\n",
       " 'weight_sum': 6246,\n",
       " 'weighted_sum': 1174}"
      ]
     },
     "execution_count": 3,
     "metadata": {},
     "output_type": "execute_result"
    }
   ],
   "source": [
    "data.aggregate_stats(label).getInfo()"
   ]
  },
  {
   "cell_type": "markdown",
   "metadata": {},
   "source": [
    "In our total training dataset, we have 6,246 observations and our label clasification shows that about 19% (the mean value above) of our data are classified as built-up (1) with the rest not.\n",
    "\n",
    "## Cross-validation\n",
    "\n",
    "Cross-validation is one of the most important aspects of machine learning development. Last section we talked about several attributes of the training data that may impact classification:\n",
    "- varying spatial resolution and choices for re-sample rate\n",
    "- choices about data cleaning\n",
    "- decisions about which bands to include\n",
    "\n",
    "We also may decide to create new features (known as feature engineering) by transforming our data sources mathmatically (getting derivatives, information about neighboring pixels, etc) or even fusing additional data.\n",
    "\n",
    "The classification algorithm itself will have hyperparameters than may be adjusted (known as hyperparameter tuning). \n",
    "\n",
    "How do we decide these things? \n",
    "\n",
    "Often we will experiment empirically and see what works, this is a big advantage to advances in computing resources and machine learning packages. However, if we just tweak our data until we get the best performance on our training data and leave it at that, we are at risk of over-fitting our model. \n",
    "\n",
    "Over-fitting a model means making it too specific to our data on-hand in a way that will fail us on unseen data. This could impact the final analysis and ultimately stakeholder trust and their ability to make informed decisions, so we want to think about strategies to avoid this.\n",
    "\n",
    "That is our situation here: since we dont have any \"ground truth\" for our data after 2015 in terms of settlements, we will want to validate our classifier as best we can with the labeled data we have before \"releasing it to the wild.\"\n",
    "\n",
    "### train test split\n",
    "A key way to do that is to split our labeled data into two components: training and testing sets (or even train, validation and test sets). There are many strategies for this, including a K-fold sample technique (or a stratified K-Fold technique, which addresses the class imbalance issue we noted earlier). Unfortunately things can get quite complex with time series or sequential data (since observations in time are \"dependent\" on observations before, we cannot fairly randomly split them). \n",
    "\n",
    "For our purposes, a simple 80/20 train/test split randomly among the pixels in our 2015 training image will be fine, but this is another great topic to learn more about.\n",
    "\n",
    "<div class=\"alert alert-success\">\n",
    "<a href=\"https://scikit-learn.org/stable/modules/cross_validation.html#\">Python's scikit-learn documentation</a> is a good place to start for understanding concepts like cross-validation and comes with programming packages and examples.</div>"
   ]
  },
  {
   "cell_type": "code",
   "execution_count": 4,
   "metadata": {},
   "outputs": [],
   "source": [
    "# we'll create a column of random numbers\n",
    "data = data.randomColumn(seed=0)\n",
    "split_thresh = 0.8\n",
    "\n",
    "train = data.filter(ee.Filter.lt('random',split_thresh))\n",
    "test = data.filter(ee.Filter.gte('random',split_thresh))"
   ]
  },
  {
   "cell_type": "code",
   "execution_count": 5,
   "metadata": {},
   "outputs": [
    {
     "data": {
      "text/plain": [
       "{'max': 1,\n",
       " 'mean': 0.1894335074327039,\n",
       " 'min': 0,\n",
       " 'sample_sd': 0.3918919561595822,\n",
       " 'sample_var': 0.15357930530258393,\n",
       " 'sum': 943,\n",
       " 'sum_sq': 943,\n",
       " 'total_count': 4978,\n",
       " 'total_sd': 0.3918525917924336,\n",
       " 'total_var': 0.1535484536944476,\n",
       " 'valid_count': 4978,\n",
       " 'weight_sum': 4978,\n",
       " 'weighted_sum': 943}"
      ]
     },
     "execution_count": 5,
     "metadata": {},
     "output_type": "execute_result"
    }
   ],
   "source": [
    "train.aggregate_stats(label).getInfo()"
   ]
  },
  {
   "cell_type": "code",
   "execution_count": 6,
   "metadata": {},
   "outputs": [
    {
     "data": {
      "text/plain": [
       "{'max': 1,\n",
       " 'mean': 0.19444444444444445,\n",
       " 'min': 0,\n",
       " 'sample_sd': 0.39592955855613005,\n",
       " 'sample_var': 0.15676021533845202,\n",
       " 'sum': 245,\n",
       " 'sum_sq': 245,\n",
       " 'total_count': 1260,\n",
       " 'total_sd': 0.39577241246597245,\n",
       " 'total_var': 0.1566358024691358,\n",
       " 'valid_count': 1260,\n",
       " 'weight_sum': 1260,\n",
       " 'weighted_sum': 245}"
      ]
     },
     "execution_count": 6,
     "metadata": {},
     "output_type": "execute_result"
    }
   ],
   "source": [
    "test.aggregate_stats(label).getInfo()"
   ]
  },
  {
   "cell_type": "markdown",
   "metadata": {},
   "source": [
    "We have ~5,000 observations (pixels) in our training set and ~1,200 in our test set.\n",
    "\n",
    "And notice balance of our label is similar for training and testing (~18% and ~20% classified as built-up, respectively), which we'd expect in a random split."
   ]
  },
  {
   "cell_type": "markdown",
   "metadata": {},
   "source": [
    "## Train the classifier\n",
    "\n",
    "Here we fit the Random Forest estimator to our training data using some initial hyperparameters."
   ]
  },
  {
   "cell_type": "code",
   "execution_count": 7,
   "metadata": {},
   "outputs": [],
   "source": [
    "init_params = {\"numberOfTrees\":100, # the number of individual decision tree models\n",
    "              \"variablesPerSplit\":None,  # the number of features to use per split\n",
    "              \"minLeafPopulation\":1, # smallest sample size possible per leaf\n",
    "              \"bagFraction\":0.5, # fraction of data to include for each individual tree model\n",
    "              \"maxNodes\":None, # max number of leafs/nodes per tree\n",
    "               \"seed\":0}  # random seed for \"random\" choices like sampling. Setting this allows others to reproduce your exact results even with stocastic parameters\n",
    "\n",
    "clf = ee.Classifier.smileRandomForest(**init_params).train(train, label, trainingbands)"
   ]
  },
  {
   "cell_type": "markdown",
   "metadata": {},
   "source": [
    "## Evaluation\n",
    "\n",
    "We need metrics to determine how well the classifier performs. We just have a simple binary schema so we can visaulize a confusion matrix, which shows the actual labels (y axis) and the predicted labels (x axis)."
   ]
  },
  {
   "cell_type": "code",
   "execution_count": 8,
   "metadata": {},
   "outputs": [],
   "source": [
    "trainResults = clf.confusionMatrix().getInfo()\n",
    "trainCM = pd.DataFrame(np.asarray(trainResults), index=['not','built-up'], columns=['not','built-up'])"
   ]
  },
  {
   "cell_type": "markdown",
   "metadata": {},
   "source": [
    "We will use Python's Seaborn plotting package to make our matrices. The <a href=\"https://seaborn.pydata.org/examples/index.html\">Seaborn plotting library</a> is popular and versatile."
   ]
  },
  {
   "cell_type": "code",
   "execution_count": 9,
   "metadata": {},
   "outputs": [
    {
     "data": {
      "image/png": "[encoded data removed]",
      "text/plain": [
       "<Figure size 720x720 with 2 Axes>"
      ]
     },
     "metadata": {
      "needs_background": "light"
     },
     "output_type": "display_data"
    }
   ],
   "source": [
    "fig, ax = plt.subplots(1, figsize=(10,10))\n",
    "sns.heatmap(trainCM/trainCM.sum(axis=1), annot=True)\n",
    "ax.set_xlabel('model predictions', fontsize=20)\n",
    "ax.set_ylabel('actual', fontsize=20)\n",
    "plt.title(\"Training data confusion matrix\", fontsize=20);"
   ]
  },
  {
   "cell_type": "markdown",
   "metadata": {},
   "source": [
    "The matrix shows True Negatives (top left), False Positives (top right), True Positives (bottom right) and False Negatives (bottom left).\n",
    "\n",
    "Accuracy measures the ratio of hits for both postiive (built up) and negative (not) classes:\n",
    "\n",
    "$$ACC = \\frac{TP + TN}{TP + TN + FP + FN}$$"
   ]
  },
  {
   "cell_type": "code",
   "execution_count": 10,
   "metadata": {},
   "outputs": [
    {
     "name": "stdout",
     "output_type": "stream",
     "text": [
      "Our classifier has an accuracy of 0.98884 on the training data.\n"
     ]
    }
   ],
   "source": [
    "acc = (trainCM.loc['built-up','built-up'] + trainCM.loc['not','not']) / trainCM.sum().sum()\n",
    "\n",
    "print(f\"Our classifier has an accuracy of {acc:.5f} on the training data.\")"
   ]
  },
  {
   "cell_type": "markdown",
   "metadata": {},
   "source": [
    "With a balanced class (~50% built up and 50% not), this metric might be ok, assuming we didnt care at all about false positives or negatives. \n",
    "\n",
    "But accuracly is not a great metric.\n",
    "\n",
    "Consider an extreme (but realistic) example where 1 out of 100 observations are in the positive class. A classifier could predict that everything is negative and be right 99 of 100 times...99% accuracy might be considered good, but there is no predictive power here and no information is yielded. \n",
    "\n",
    "If you do care about false negatives (say, if the test is for a disease or something with high stakes) you do not want a classifier that just predicts negatives naively: 1 miss in 100 could be terrible for real world consequences.\n",
    "\n",
    "For binary classification there are many options. The <a href=\"https://en.wikipedia.org/wiki/Matthews_correlation_coefficient\">Matthews correlation coefficient</a> (based on Pearson's phi coefficient) is a better score, so let's use that.\n",
    "\n",
    "$$MCC = \\frac{TP * TN - FP * FN}{\\sqrt{(TP + FP)(TP + FN)(TN + FP)(TN + FN)}}$$"
   ]
  },
  {
   "cell_type": "code",
   "execution_count": 11,
   "metadata": {},
   "outputs": [
    {
     "name": "stdout",
     "output_type": "stream",
     "text": [
      "Our classifier has an MCC score of 0.96270 on the training data.\n"
     ]
    }
   ],
   "source": [
    "def get_mcc(cm, pos_label='built-up',neg_label='not'):\n",
    "    tp = cm.loc[pos_label, pos_label]\n",
    "    tn = cm.loc[neg_label, neg_label]\n",
    "    fn = cm.loc[pos_label, neg_label]\n",
    "    fp = cm.loc[neg_label, pos_label]\n",
    "    \n",
    "    return (tp * tn - fp * fn)/(np.sqrt((tp + fp)*(tp + fn) * (tn + fp)* (tn +fn)))\n",
    "\n",
    "mcc = get_mcc(trainCM)\n",
    "print(f\"Our classifier has an MCC score of {mcc:.5f} on the training data.\")"
   ]
  },
  {
   "cell_type": "markdown",
   "metadata": {},
   "source": [
    "### Test results\n",
    "\n",
    "Either way, the performance seems good, but remember this is the data we trained the classifier on, so it really just learned about this specific data.\n",
    "\n",
    "**Never base your model evaluation on your training data alone!**\n",
    "\n",
    "We need to look at the out sample that it was not trained on to get a better indication of how this classifier will do on unseen data, which is what we are relying on to get accurate predictions of 2016 through 2019 land use classification."
   ]
  },
  {
   "cell_type": "code",
   "execution_count": 12,
   "metadata": {},
   "outputs": [
    {
     "name": "stdout",
     "output_type": "stream",
     "text": [
      "Our classifier has an accuracy of 0.89106 on the test data.\n",
      "Our classifier has an MCC score of 0.63075 on the test data.\n"
     ]
    },
    {
     "data": {
      "image/png": "[encoded data removed]",
      "text/plain": [
       "<Figure size 720x720 with 2 Axes>"
      ]
     },
     "metadata": {
      "needs_background": "light"
     },
     "output_type": "display_data"
    }
   ],
   "source": [
    "testResults = test.classify(clf).errorMatrix(label, 'classification').getInfo()\n",
    "testCM = pd.DataFrame(np.asarray(testResults), index=['not','built-up'], columns=['not','built-up'])\n",
    "\n",
    "fig, ax = plt.subplots(1, figsize=(10,10))\n",
    "sns.heatmap(testCM/testCM.sum(axis=1), annot=True)\n",
    "ax.set_xlabel('model predictions', fontsize=20)\n",
    "ax.set_ylabel('actual', fontsize=20)\n",
    "plt.title(\"Test data confusion matrix\", fontsize=20);\n",
    "acc = (testCM.loc['built-up','built-up'] + testCM.loc['not','not']) / testCM.sum().sum()\n",
    "mcc = get_mcc(testCM)\n",
    "print(f\"Our classifier has an accuracy of {acc:.5f} on the test data.\")\n",
    "print(f\"Our classifier has an MCC score of {mcc:.5f} on the test data.\")"
   ]
  },
  {
   "cell_type": "markdown",
   "metadata": {},
   "source": [
    "We can see the difference in the confusion matrix and in the lower accuracy -- and far lower MCC scores.\n",
    "\n",
    "On unseen data, our classifier seems to be over-predicting built up areas and producing a lot of false positives.\n",
    "\n",
    "This might impact our final analysis...this over-prediction translates into a final assessment of increased economic growth that might be in error.\n",
    "\n",
    "Let's see if increasing he number of estimators (trees) in our ensemble improves things on our test data results."
   ]
  },
  {
   "cell_type": "code",
   "execution_count": 13,
   "metadata": {},
   "outputs": [],
   "source": [
    "new_params = {\"numberOfTrees\":500, \n",
    "              \"variablesPerSplit\":None,  \n",
    "              \"minLeafPopulation\":1, \n",
    "              \"bagFraction\":0.5, \n",
    "              \"maxNodes\":None, \n",
    "               \"seed\":0}\n",
    "\n",
    "clf2 = ee.Classifier.smileRandomForest(**new_params).train(train, label, trainingbands)"
   ]
  },
  {
   "cell_type": "code",
   "execution_count": 14,
   "metadata": {},
   "outputs": [
    {
     "name": "stdout",
     "output_type": "stream",
     "text": [
      "Our classifier has an accuracy of 0.89286 on the test data.\n",
      "Our classifier has an MCC score of 0.60866 on the test data.\n"
     ]
    },
    {
     "data": {
      "image/png": "[encoded data removed]",
      "text/plain": [
       "<Figure size 720x720 with 2 Axes>"
      ]
     },
     "metadata": {
      "needs_background": "light"
     },
     "output_type": "display_data"
    }
   ],
   "source": [
    "testResults = test.classify(clf2).errorMatrix(label, 'classification').getInfo()\n",
    "testCM = pd.DataFrame(np.asarray(testResults), index=['not','built-up'], columns=['not','built-up'])\n",
    "\n",
    "fig, ax = plt.subplots(1, figsize=(10,10))\n",
    "sns.heatmap(testCM/testCM.sum(axis=1), annot=True)\n",
    "ax.set_xlabel('model predictions', fontsize=20)\n",
    "ax.set_ylabel('actual', fontsize=20)\n",
    "plt.title(\"Test data confusion matrix\", fontsize=20);\n",
    "acc = (testCM.loc['built-up','built-up'] + testCM.loc['not','not']) / testCM.sum().sum()\n",
    "mcc = get_mcc(testCM)\n",
    "print(f\"Our classifier has an accuracy of {acc:.5f} on the test data.\")\n",
    "print(f\"Our classifier has an MCC score of {mcc:.5f} on the test data.\")"
   ]
  },
  {
   "cell_type": "markdown",
   "metadata": {},
   "source": [
    "...it's about the same.\n",
    "\n",
    "If you spend a lot of time with machine learning algorithms, you will see that model tuning at best usually delivers incremental results. But thinking more about the data that is put into the model (feature engineering, additional sources, etc) is usually more likely to imrpove your model.\n",
    "\n",
    "What happens when we try cleaning the data like we did before by standardizing the VIIRS-DNB band?"
   ]
  },
  {
   "cell_type": "code",
   "execution_count": 15,
   "metadata": {},
   "outputs": [
    {
     "name": "stdout",
     "output_type": "stream",
     "text": [
      "Our classifier has an accuracy of 0.90261 on the test data.\n",
      "Our classifier has an MCC score of 0.62630 on the test data.\n"
     ]
    },
    {
     "data": {
      "image/png": "[encoded data removed]",
      "text/plain": [
       "<Figure size 720x720 with 2 Axes>"
      ]
     },
     "metadata": {
      "needs_background": "light"
     },
     "output_type": "display_data"
    }
   ],
   "source": [
    "vmu = viirs.reduceRegion(reducer=ee.Reducer.mean(),scale=scaleFactor)\n",
    "vstd = viirs.reduceRegion(reducer=ee.Reducer.stdDev(),scale=scaleFactor)\n",
    "\n",
    "vmu = ee.Number(vmu.get('avg_rad'))\n",
    "vstd = ee.Number(vstd.get('avg_rad'))\n",
    "\n",
    "viirsclean = viirs.subtract(vmu).divide(vstd)\n",
    "\n",
    "fusedclean = se2.addBands(viirsclean)\n",
    "\n",
    "dataclean = fusedclean.select(trainingbands).sampleRegions(collection=points,\n",
    "                                                        properties=[label],\n",
    "                                                        scale=scaleFactor)\n",
    "\n",
    "# we'll create a column of random numbers\n",
    "dataclean = dataclean.randomColumn(seed=0)\n",
    "split_thresh = 0.8\n",
    "\n",
    "trainclean = dataclean.filter(ee.Filter.lt('random',split_thresh))\n",
    "testclean = dataclean.filter(ee.Filter.gte('random',split_thresh))\n",
    "\n",
    "clf3 = ee.Classifier.smileRandomForest(**new_params).train(trainclean, label, trainingbands)\n",
    "\n",
    "testResults = testclean.classify(clf3).errorMatrix(label, 'classification').getInfo()\n",
    "testCM = pd.DataFrame(np.asarray(testResults), index=['not','built-up'], columns=['not','built-up'])\n",
    "\n",
    "fig, ax = plt.subplots(1, figsize=(10,10))\n",
    "sns.heatmap(testCM/testCM.sum(axis=1), annot=True)\n",
    "ax.set_xlabel('model predictions', fontsize=20)\n",
    "ax.set_ylabel('actual', fontsize=20)\n",
    "plt.title(\"Test data confusion matrix\", fontsize=20);\n",
    "acc = (testCM.loc['built-up','built-up'] + testCM.loc['not','not']) / testCM.sum().sum()\n",
    "mcc = get_mcc(testCM)\n",
    "print(f\"Our classifier has an accuracy of {acc:.5f} on the test data.\")\n",
    "print(f\"Our classifier has an MCC score of {mcc:.5f} on the test data.\")"
   ]
  },
  {
   "cell_type": "markdown",
   "metadata": {},
   "source": [
    "Improvement, albeit barely perceptible. Probably not worth adding this cleaning step to our final model pipeline, but worth exploring further -- there are many ways to improve signal to noise ratios in images.\n",
    "\n",
    "In a real scenario, you would spend a lot of time in this phase of research trying to validate your model. You should also look to independent sources of economic growth not just for additional data inputs but as validators.\n",
    "\n",
    "We'll move on for now, but think about some ways you might improve this model using the data we have (or exploring other data!).\n",
    "\n",
    "## Visualize prediction\n",
    "\n",
    "Applying that last trained classifier (but on non cleaned training data) on our entire image, we can visualize the predicted land cover."
   ]
  },
  {
   "cell_type": "code",
   "execution_count": 16,
   "metadata": {},
   "outputs": [],
   "source": [
    "result = fused.select(trainingbands).classify(clf2)"
   ]
  },
  {
   "cell_type": "code",
   "execution_count": 17,
   "metadata": {},
   "outputs": [
    {
     "data": {
      "application/vnd.jupyter.widget-view+json": {
       "model_id": "5826294b2d87459b954706575bca508a",
       "version_major": 2,
       "version_minor": 0
      },
      "text/plain": [
       "Map(center=[27.87388743003947, 85.41973735675019], controls=(WidgetControl(options=['position', 'transparent_b…"
      ]
     },
     "metadata": {},
     "output_type": "display_data"
    }
   ],
   "source": [
    "ghslVis= {\"palette\":['000000', 'ffffff']}\n",
    "se2Vis = {\"min\":0.0, \"max\":0.3,\"bands\": ['B4','B3','B2']}\n",
    "\n",
    "# initialize our map\n",
    "map1 = geemap.Map()\n",
    "map1.centerObject(roi, 9)\n",
    "map1.addLayer(se2, se2Vis, \"S2\")\n",
    "map1.addLayer(viirs, {}, \"VIIRS-DNB\")\n",
    "map1.addLayer(ghsl, ghslVis, \"GHSL\")\n",
    "map1.addLayer(result.randomVisualizer(), {}, 'classified')\n",
    "map1.addLayerControl()\n",
    "map1"
   ]
  },
  {
   "cell_type": "markdown",
   "metadata": {},
   "source": [
    "We have some odd truncated edges in our prediction set likely due to the re-sampling process (and maybe errors in preprocessing). Worth investigating further, but at at glance we can see the built up area (green) that appears quite close to what we would expect given the GHSL data. \n",
    "\n",
    "Our MCC score on the validation set of ~ 0.64 is far from perfect, but it'll do for our exploratory and learning purposes we can take a look at what we were trying to assess: change in land cover.\n",
    "\n",
    "Note that if you wanted to err on the side of caution for false positives (showing built-up land, ie growth, only when it is quite certain that it is there) there are metrics and weights that can \"penalize\" your classifier in training to decrease the false positives. The trade-off may be in higher false negatives of course, but this making the right choice for the task at hand is why {doc}`mod6_1_framing_the_analysis` is so critical!"
   ]
  },
  {
   "cell_type": "code",
   "execution_count": null,
   "metadata": {},
   "outputs": [],
   "source": []
  }
 ],
 "metadata": {
  "hide_input": false,
  "kernelspec": {
   "display_name": "Python 3",
   "language": "python",
   "name": "python3"
  },
  "language_info": {
   "codemirror_mode": {
    "name": "ipython",
    "version": 3
   },
   "file_extension": ".py",
   "mimetype": "text/x-python",
   "name": "python",
   "nbconvert_exporter": "python",
   "pygments_lexer": "ipython3",
   "version": "3.7.9"
  },
  "toc": {
   "base_numbering": 1,
   "nav_menu": {},
   "number_sections": false,
   "sideBar": true,
   "skip_h1_title": false,
   "title_cell": "Table of Contents",
   "title_sidebar": "Contents",
   "toc_cell": false,
   "toc_position": {},
   "toc_section_display": true,
   "toc_window_display": false
  }
 },
 "nbformat": 4,
 "nbformat_minor": 4
}
