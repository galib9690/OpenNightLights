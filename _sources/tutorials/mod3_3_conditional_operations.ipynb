{
 "cells": [
  {
   "cell_type": "markdown",
   "metadata": {},
   "source": [
    "[![Open In Colab](https://colab.research.google.com/assets/colab-badge.svg)](https://colab.research.google.com/github/NLTGit/OpenNightLights-colab-mirror/blob/master/onl/tutorials/mod3_3_conditional_operations.ipynb)\n",
    "\n",
    "\n",
    "# Conditional operations (10 min)\n",
    "\n",
    "It's sometimes useful to mask individual pixels based on conditional statements which can be applied to these pixels just as with any numerical value. As we are dealing with raster files, it helps to understand that the underlying data structure is similar to a matrix (the pixels represent cells in the matrix).\n",
    "\n",
    "In this tutorial we'll look at applying some basic conditional operations to an Image and use this to create a mask.\n",
    "\n",
    "**Our tasks in this exercise:**\n",
    "1. Create a mask for a VIIRS-DNB Image using a conditional operation\n",
    "2. Create a map of zones created from chaining a few boolean masks.\n",
    "\n",
    "## Create a mask for VIIRS-DNB image using a conditional operation\n",
    "\n",
    "#### First let's initialize a map and get the monthly VIIRS-DNB composite for December 2019 centered on the Catalonia region of Spain"
   ]
  },
  {
   "cell_type": "code",
   "execution_count": 1,
   "metadata": {},
   "outputs": [],
   "source": [
    "#pip! install geemap seaborn matplotlib"
   ]
  },
  {
   "cell_type": "code",
   "execution_count": 2,
   "metadata": {},
   "outputs": [
    {
     "data": {
      "application/vnd.jupyter.widget-view+json": {
       "model_id": "da75681120f84b90867823fa99cb46f5",
       "version_major": 2,
       "version_minor": 0
      },
      "text/plain": [
       "Map(center=[41.83, 1.67], controls=(WidgetControl(options=['position'], widget=HBox(children=(ToggleButton(val…"
      ]
     },
     "metadata": {},
     "output_type": "display_data"
    }
   ],
   "source": [
    "# import geemap and ee for our Python session\n",
    "import geemap, ee\n",
    "\n",
    "try:\n",
    "        ee.Initialize()\n",
    "except Exception as e:\n",
    "        ee.Authenticate()\n",
    "        ee.Initialize()\n",
    "\n",
    "# get December image, we're using the \"avg_rad\" band\n",
    "viirs2019_12 = ee.ImageCollection(\"NOAA/VIIRS/DNB/MONTHLY_V1/VCMSLCFG\").filterDate(\"2019-12-01\",\"2019-12-31\").select('avg_rad').median()\n",
    "\n",
    "\n",
    "# center on Catalonia\n",
    "lat = 41.83\n",
    "lon = 1.67\n",
    "\n",
    "# initialize our map\n",
    "map1 = geemap.Map(center=[lat,lon],zoom=7)\n",
    "map1.add_basemap('SATELLITE')\n",
    "map1.addLayer(viirs2019_12.mask(viirs2019_12), {}, \"VIIRS-DNB Dec 2019\")\n",
    "map1.addLayerControl()\n",
    "map1"
   ]
  },
  {
   "cell_type": "markdown",
   "metadata": {},
   "source": [
    "There are a few basic boolean operations that Google Earth Engine includes as built-ins for Images. The output is a binary file that sets a pixel value to 1 if it meets the condition and 0 if it doesnt. Those operations include:\n",
    "\n",
    "- `lt`: \"less than\"\n",
    "- `lte`: \"less than or equal to\"\n",
    "- `eq`: \"equal to\"\n",
    "- `gt`: \"greater than or equal to\"\n",
    "- `gte`: \"greater than\n",
    "\n",
    "The method compares the Image object the method is called on as the left-hand side of the comparison with the value passed as the input argument to the function on the right-hand side. This input can be a scalar value that will be compared to all pixels in the image, or another image that will be used as an element-wise / pixel-wise comparison.\n",
    "\n",
    "### Let's create a histogram from a region in our scene\n",
    "\n",
    "This way we can decide on an interesting threshold to set our boolean condition on.\n",
    "\n",
    "We will discuss what we are doing here in more detail"
   ]
  },
  {
   "cell_type": "code",
   "execution_count": 3,
   "metadata": {},
   "outputs": [
    {
     "ename": "ModuleNotFoundError",
     "evalue": "No module named 'seaborn'",
     "output_type": "error",
     "traceback": [
      "\u001b[0;31m---------------------------------------------------------------------------\u001b[0m",
      "\u001b[0;31mModuleNotFoundError\u001b[0m                       Traceback (most recent call last)",
      "\u001b[0;32m<ipython-input-3-a2efd5ce22c0>\u001b[0m in \u001b[0;36m<module>\u001b[0;34m\u001b[0m\n\u001b[1;32m      6\u001b[0m \u001b[0;34m\u001b[0m\u001b[0m\n\u001b[1;32m      7\u001b[0m \u001b[0;31m# create a histogram\u001b[0m\u001b[0;34m\u001b[0m\u001b[0;34m\u001b[0m\u001b[0;34m\u001b[0m\u001b[0m\n\u001b[0;32m----> 8\u001b[0;31m \u001b[0;32mimport\u001b[0m \u001b[0mseaborn\u001b[0m \u001b[0;32mas\u001b[0m \u001b[0msns\u001b[0m\u001b[0;34m\u001b[0m\u001b[0;34m\u001b[0m\u001b[0m\n\u001b[0m\u001b[1;32m      9\u001b[0m \u001b[0;32mimport\u001b[0m \u001b[0mmatplotlib\u001b[0m\u001b[0;34m.\u001b[0m\u001b[0mpyplot\u001b[0m \u001b[0;32mas\u001b[0m \u001b[0mplt\u001b[0m\u001b[0;34m\u001b[0m\u001b[0;34m\u001b[0m\u001b[0m\n\u001b[1;32m     10\u001b[0m \u001b[0;34m\u001b[0m\u001b[0m\n",
      "\u001b[0;31mModuleNotFoundError\u001b[0m: No module named 'seaborn'"
     ]
    }
   ],
   "source": [
    "# create a 200 km buffer around the center of Catalonia\n",
    "aoi = ee.Geometry.Point([lon, lat]).buffer(200000);\n",
    "\n",
    "# extract a number array from this region\n",
    "arr = geemap.ee_to_numpy(viirs2019_12, region=aoi)\n",
    "\n",
    "# create a histogram\n",
    "import seaborn as sns\n",
    "import matplotlib.pyplot as plt\n",
    "\n",
    "fig, ax = plt.subplots(figsize=(15,5))\n",
    "sns.kdeplot(arr.flatten(), label='region',legend=True, ax=ax)\n",
    "ax.axvline(4, color='indianred', label='suggested threshold')\n",
    "plt.legend(fontsize=20)\n",
    "plt.title('Distribution of VIIRS-DNB from sample(smoothed w/ Gaussian kernel)', fontsize=20);\n",
    "plt.ylabel('avg radiance')\n",
    "plt.legend();"
   ]
  },
  {
   "cell_type": "markdown",
   "metadata": {},
   "source": [
    "Based on our histogram of radiance in the sample region, it might be interesting mask all values that are not greater than or equal to 4."
   ]
  },
  {
   "cell_type": "code",
   "execution_count": null,
   "metadata": {},
   "outputs": [],
   "source": [
    "viirs2019_12_mask = viirs2019_12.gte(4)\n",
    "\n",
    "# initialize our map\n",
    "map2 = geemap.Map(center=[lat,lon],zoom=7)\n",
    "map2.add_basemap('SATELLITE')\n",
    "\n",
    "# we'll mask the image with itself to keep the visualization clean\n",
    "map2.addLayer(viirs2019_12_mask.mask(viirs2019_12_mask), {}, \"Avg rad >=4\")\n",
    "map2.addLayerControl()\n",
    "map2"
   ]
  },
  {
   "cell_type": "markdown",
   "metadata": {},
   "source": [
    "By setting our threshold in between the two modes of our distribution, we see that we've created a layer that seems to mask all but the high-intensity light around built-up areas, including Barcelona.\n",
    "\n",
    "## Create a map of zones based on chained boolean masks\n"
   ]
  },
  {
   "cell_type": "code",
   "execution_count": 4,
   "metadata": {},
   "outputs": [
    {
     "data": {
      "application/vnd.jupyter.widget-view+json": {
       "model_id": "4b1a1b37fdca482daf220bc6c052bc60",
       "version_major": 2,
       "version_minor": 0
      },
      "text/plain": [
       "Map(center=[41.83, 1.67], controls=(WidgetControl(options=['position'], widget=HBox(children=(ToggleButton(val…"
      ]
     },
     "metadata": {},
     "output_type": "display_data"
    }
   ],
   "source": [
    "zones = viirs2019_12.gt(1.5).add(viirs2019_12.gt(2)).add(viirs2019_12.gt(5))\n",
    "\n",
    "# initialize our map\n",
    "map3 = geemap.Map(center=[lat,lon],zoom=7)\n",
    "map3.add_basemap('SATELLITE')\n",
    "\n",
    "map3.addLayer(zones.mask(zones), {'palette':['#cc0909','#e67525','#fff825']}, 'zones')\n",
    "\n",
    "map3.addLayerControl()\n",
    "map3"
   ]
  },
  {
   "cell_type": "markdown",
   "metadata": {},
   "source": [
    "Now we can see variation in radiance in a way that sheds \"light\" (apologies for the pun!) on activity around denser urban areas.\n",
    "\n",
    "Later in this tutorial, we'll look at calculating the difference in two Images -- and this is a another potential for leveraging conditional operators."
   ]
  },
  {
   "cell_type": "markdown",
   "metadata": {},
   "source": [
    "## References:\n",
    "```{bibliography} ../references.bib\n",
    ":filter: docname in docnames\n",
    "```"
   ]
  }
 ],
 "metadata": {
  "hide_input": false,
  "kernelspec": {
   "display_name": "Python 3",
   "language": "python",
   "name": "python3"
  },
  "language_info": {
   "codemirror_mode": {
    "name": "ipython",
    "version": 3
   },
   "file_extension": ".py",
   "mimetype": "text/x-python",
   "name": "python",
   "nbconvert_exporter": "python",
   "pygments_lexer": "ipython3",
   "version": "3.8.6"
  },
  "toc": {
   "base_numbering": 1,
   "nav_menu": {},
   "number_sections": false,
   "sideBar": true,
   "skip_h1_title": false,
   "title_cell": "Table of Contents",
   "title_sidebar": "Contents",
   "toc_cell": false,
   "toc_position": {},
   "toc_section_display": true,
   "toc_window_display": false
  }
 },
 "nbformat": 4,
 "nbformat_minor": 4
}
