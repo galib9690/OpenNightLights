{
 "cells": [
  {
   "cell_type": "markdown",
   "metadata": {},
   "source": [
    "[![Open In Colab](https://colab.research.google.com/assets/colab-badge.svg)](https://colab.research.google.com/github/worldbank/OpenNightLights/blob/master/onl/tutorials/mod6_4_intro_to_GHSL.ipynb)\n",
    "\n",
    "# Intro to Global Human Settlement Layer\n",
    "\n",
    "Identifying areas of human settlement is a large area of focus in Earth Observation and many other disciplines.\n",
    "\n",
    "The Global Human Settlement Layer (GHSL) dataset is a useful resource for understanding areas of settlement and happily for our purposes, it is available in the Google Earth Engine (GEE) catalogue.\n",
    "\n",
    "The dataset we are particularly interested in is the GHSL \"Settlement Grid\" layer. The settlement grids in this dataset have been generated via the GHSL built-up areas and population grids, which are themselves derived from Landsat image collections and other sources and these layers are also available on GEE.\n",
    "\n",
    "More details and links to resources are available on the <a href=\"https://developers.google.com/earth-engine/datasets/catalog/JRC_GHSL_P2016_SMOD_POP_GLOBE_V1#description\">collection's landing pages</a>, including a description and link to the methodology.\n",
    "\n",
    "A couple things to note. \n",
    "\n",
    "First, there is one band with four \"degrees of urbanization\":\n",
    "- 0. Inhabited areas (\n",
    "- 1. Rural grid cells\n",
    "- 2. Low Density Clusters (towns and cities)\n",
    "- 3. High Density Clusters (cities)\n",
    "    \n",
    "We made a choice in framing our analysis that we are interested in the change of the Low and High Density clusters (\"built up\") relative to everything else, so we will classify any pixel with values in [3,4] as \"built up\" and assign this `1` or not and assign it `0`.\n",
    "\n",
    "A second item worth noting is that the spatial resolution for this grid layer is 1000 meters.\n",
    "\n",
    "Let's take a quick look at the data..."
   ]
  },
  {
   "cell_type": "code",
   "execution_count": 1,
   "metadata": {},
   "outputs": [],
   "source": [
    "# reminder that if you are installing libraries in a Google Colab instance you will be prompted to restart your kernal\n",
    "\n",
    "try:\n",
    "    import geemap, ee\n",
    "except ModuleNotFoundError:\n",
    "    if 'google.colab' in str(get_ipython()):\n",
    "        print(\"package not found, installing w/ pip in Google Colab...\")\n",
    "        !pip install geemap\n",
    "    else:\n",
    "        print(\"package not found, installing w/ conda...\")\n",
    "        !conda install mamba -c conda-forge -y\n",
    "        !mamba install geemap -c conda-forge -y\n",
    "    import geemap, ee"
   ]
  },
  {
   "cell_type": "code",
   "execution_count": 2,
   "metadata": {},
   "outputs": [
    {
     "data": {
      "application/vnd.jupyter.widget-view+json": {
       "model_id": "102542572fcb4cf38fa70be5926bceee",
       "version_major": 2,
       "version_minor": 0
      },
      "text/plain": [
       "Map(center=[28.268224502649357, 83.97637443188768], controls=(WidgetControl(options=['position', 'transparent_…"
      ]
     },
     "metadata": {},
     "output_type": "display_data"
    }
   ],
   "source": [
    "try:\n",
    "        ee.Initialize()\n",
    "except Exception as e:\n",
    "        ee.Authenticate()\n",
    "        ee.Initialize()\n",
    "\n",
    "# get our Nepal boundary\n",
    "aoi = ee.FeatureCollection(\"FAO/GAUL/2015/level0\").filter(ee.Filter.eq('ADM0_NAME','Nepal')).geometry()\n",
    "\n",
    "ghsl = ee.ImageCollection('JRC/GHSL/P2016/SMOD_POP_GLOBE_V1').filter(ee.Filter.date('2015-01-01', '2015-12-31')).select('smod_code').median();\n",
    "\n",
    "# create a boolean mask setting anything equaling 2 (low density) or 3 (high density) as True\n",
    "# this will actually be our binary label layer\n",
    "ghslbinary = ghsl.gte(2)\n",
    "\n",
    "ghslVis= {\"min\":0.0, \"max\":3.0,\"palette\":['000000', '448564', '70daa4', 'ffffff']}\n",
    "ghslbiVis= {\"palette\":['000000', 'ffffff']}\n",
    "\n",
    "map1 = geemap.Map()\n",
    "map1.centerObject(aoi,7)\n",
    "map1.addLayer(ghsl.clip(aoi), ghslVis, 'Degree of Urbanization')\n",
    "map1.addLayer(ghslbinary.clip(aoi), ghslbiVis, 'Built up')\n",
    "map1"
   ]
  },
  {
   "cell_type": "markdown",
   "metadata": {},
   "source": [
    "In the original data layer (\"Degree of Urbanization\") you can see the high density patch of Kathmandu (white) as well as the low density cluster classifications that follow what appears to be major road networks and other towns (bright green). We can also see the rural areas (green) and the rest of the country (black).\n",
    "\n",
    "In our binary mask (\"Built up\"), you can see how the coverage is over both low and high cluster areas. This is the layer we will use as our labels for the training data."
   ]
  },
  {
   "cell_type": "code",
   "execution_count": null,
   "metadata": {},
   "outputs": [],
   "source": []
  }
 ],
 "metadata": {
  "hide_input": false,
  "kernelspec": {
   "display_name": "Python 3",
   "language": "python",
   "name": "python3"
  },
  "language_info": {
   "codemirror_mode": {
    "name": "ipython",
    "version": 3
   },
   "file_extension": ".py",
   "mimetype": "text/x-python",
   "name": "python",
   "nbconvert_exporter": "python",
   "pygments_lexer": "ipython3",
   "version": "3.7.9"
  },
  "toc": {
   "base_numbering": 1,
   "nav_menu": {},
   "number_sections": false,
   "sideBar": true,
   "skip_h1_title": false,
   "title_cell": "Table of Contents",
   "title_sidebar": "Contents",
   "toc_cell": false,
   "toc_position": {},
   "toc_section_display": true,
   "toc_window_display": false
  }
 },
 "nbformat": 4,
 "nbformat_minor": 4
}
